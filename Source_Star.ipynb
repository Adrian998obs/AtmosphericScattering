{
 "cells": [
  {
   "cell_type": "code",
   "execution_count": 13,
   "id": "6fd01a2d-9119-4811-bcd6-16b41bf2b2c2",
   "metadata": {},
   "outputs": [],
   "source": [
    "import numpy as np\n",
    "import matplotlib.pyplot as plt\n",
    "import scipy as sc\n",
    "from dataclasses import dataclass\n",
    "import math\n",
    "from typing import Tuple, Optional\n",
    "#Comment out the next line if it doesn't run\n",
    "%matplotlib widget \n"
   ]
  },
  {
   "cell_type": "code",
   "execution_count": 14,
   "id": "a9ab201f-3d1b-41a2-a446-64f1bdf5eaa3",
   "metadata": {},
   "outputs": [],
   "source": [
    "# Constants \n",
    "h  = 6.62607015e-34       # Planck constant [J s]\n",
    "c  = 2.99792458e8          # Speed of light [m/s]\n",
    "kB = 1.380649e-23        # Boltzmann constant [J/K]\n",
    "\n",
    "# Astronomical conveniences\n",
    "R_sun = 6.957e8          # Solar radius [m]\n",
    "AU = 1.495978707e11      # Astronomical Unit [m]"
   ]
  },
  {
   "cell_type": "markdown",
   "id": "d693cfaf-f269-49ab-946c-7cb4a3b78e99",
   "metadata": {},
   "source": [
    "### Planck BlackBody Law"
   ]
  },
  {
   "cell_type": "code",
   "execution_count": 15,
   "id": "68d5fd3a-b4d7-48d9-a37b-bdfa4b47ee3c",
   "metadata": {},
   "outputs": [],
   "source": [
    "def planckBlambda(wavelength_m, T):\n",
    "    \"\"\"\n",
    "    Planck's spectral radiance B(lambda) of blackbody per unit wavelength.\n",
    "    Unit of B in W / (m^2 sr m). Wavelength in meters, T in Kelvin.\n",
    "    \"\"\"\n",
    "    lamd = np.asarray(wavelength_m, dtype=float)\n",
    "    T = float(T)\n",
    "    if T <= 0:\n",
    "        raise ValueError(\"T must be > 0 K.\")\n",
    "\n",
    "    # Avoid lambda = 0 to prevent division by zero\n",
    "    lamd = np.clip(lamd, 1e-20, None)\n",
    "\n",
    "    # left part \n",
    "    a = 2 * h * c**2 / lamd**5\n",
    "\n",
    "    # exponential part\n",
    "    b = h * c / (lamd * kB * T)\n",
    "    \n",
    "    with np.errstate(over='ignore', under='ignore', invalid='ignore', divide='ignore'):\n",
    "        return a / np.expm1(b)"
   ]
  },
  {
   "cell_type": "code",
   "execution_count": 16,
   "id": "7cd7206f-a952-4353-abbf-a5a9db0c4e1b",
   "metadata": {},
   "outputs": [
    {
     "data": {
      "text/plain": [
       "np.float64(30634176630914.48)"
      ]
     },
     "execution_count": 16,
     "metadata": {},
     "output_type": "execute_result"
    }
   ],
   "source": [
    "planckBlambda(550e-9, 6000) # I havent check if the result is exactly correct "
   ]
  },
  {
   "cell_type": "code",
   "execution_count": 17,
   "id": "b1375836-2ae1-4818-b937-f0b2150209cc",
   "metadata": {},
   "outputs": [],
   "source": [
    "def irradiance_planck(wavelength_m, R, D, T): \n",
    "    \"\"\"\n",
    "    Irradiance at distance D from a uniform blackbody sphere of radius R and temperature T. Other name of Flux\n",
    "    Units: W / m^2 supposedly. Wavelength, Radius, Distance in meters, T in Kelvin.\n",
    "    \"\"\"\n",
    "    F_lambda = np.pi * (R / D)** 2 * planckBlambda(wavelength_m, T)\n",
    "    return F_lambda"
   ]
  },
  {
   "cell_type": "markdown",
   "id": "6c31205f-b9e0-4095-af0c-8bc34af31fed",
   "metadata": {},
   "source": [
    "### Distribution Function\n",
    "Using Cummulative dist func because cdf is pretty much easier if we want to sample part/range of the whole dist func. We want to map random numbers to wavelengths based on the distribution. Then we sample and \"create\" photons randomlyh from that distribution."
   ]
  },
  {
   "cell_type": "code",
   "execution_count": 18,
   "id": "5d7a4d32-6815-4c28-b986-95b14cc4bfa7",
   "metadata": {},
   "outputs": [],
   "source": [
    "def build_cdf_from_pdf(wavelength_m, pdf):\n",
    "    \"\"\"\n",
    "    Build a cummulative dist. func. from certain proba. dist. func., normalized to [0, 1]. \n",
    "    The CDF is used for sampling wavelengths based on the given distribution.\n",
    "    \n",
    "    returns:\n",
    "    wavelength_m, which is the input wavelength in meters\n",
    "    cdf_vals which is the values corresponding to each wavelength, normalized to [0, 1]\n",
    "\n",
    "    If the total probability is zero or negative, defaults to a uniform distribution.\n",
    "    \"\"\"\n",
    "    dx = np.diff(wavelength_m)\n",
    "    mid = 0.5 * (pdf[:-1] + pdf[1:]) * dx\n",
    "    \n",
    "    cdf_vals = np.concatenate([[0.0], np.cumsum(mid)])\n",
    "    total = cdfvals[-1]\n",
    "    \n",
    "    if total <= 0.0:\n",
    "        cdf_vals = np.linspace(0.0, 1.0, len(wavelength_m))  # if the pdf is apparently 0, we turn to linear/uniform dist\n",
    "    else:\n",
    "        cdf_vals = cdf_vals / total     # normalize\n",
    "        \n",
    "    return wavelength_m, cdf_vals"
   ]
  },
  {
   "cell_type": "code",
   "execution_count": 19,
   "id": "3dc83f62-2a05-4b29-9184-04ae3a416f2d",
   "metadata": {},
   "outputs": [],
   "source": [
    "def sample_from_cdf(cdf_x, cdf_vals, n):\n",
    "    \"\"\"\n",
    "    Sample n wavelengths from the CDF using inverse transform sampling.\n",
    "\n",
    "    cdf_x = the x-grid, a.k.a wavelength in meters. Same length as cdf_vals. Must be sorted ascending.\n",
    "    cdf_vals = the cdf we have (from the function), evaluated on cdf_x. Must start at ~0 and end at 1 (monotone non-decreasing).\n",
    "    n = how many random samples we want.\n",
    "\n",
    "    return:\n",
    "    samples, ndarray, shape (n,)\n",
    "        Samples distributed according to the CDF over cdf_x (same units as cdf_x).\n",
    "    \"\"\"\n",
    "\n",
    "    u = np.random.random(size=n)                  # uniform [0,1]\n",
    "    idx = np.searchsorted(cdf_vals, u, 'right')   # bin index for each u\n",
    "    idx = np.clip(idx, 1, len(cdf_vals) - 1)      # keep inside valid range\n",
    "\n",
    "    x0 = cdf_x[idx - 1]\n",
    "    x1 = cdf_x[idx]\n",
    "    \n",
    "    y0 = cdf_vals[idx - 1]\n",
    "    y1 = cdf_vals[idx]\n",
    "\n",
    "    # linear interpolation within the CDF bin\n",
    "    t = np.where(y1 > y0, (u - y0) / (y1 - y0), 0.0)\n",
    "    return x0 + t * (x1 - x0)"
   ]
  },
  {
   "cell_type": "code",
   "execution_count": null,
   "id": "17c07ac3-6f99-4245-b4a4-51f559e93099",
   "metadata": {},
   "outputs": [],
   "source": []
  },
  {
   "cell_type": "code",
   "execution_count": null,
   "id": "d4ea6791-18d2-4ebc-995d-5a8a89028c5c",
   "metadata": {},
   "outputs": [],
   "source": []
  },
  {
   "cell_type": "code",
   "execution_count": null,
   "id": "f03196c4-d238-4faa-806c-d4c209f0906f",
   "metadata": {},
   "outputs": [],
   "source": []
  },
  {
   "cell_type": "code",
   "execution_count": null,
   "id": "3e2eba44-df19-48a8-abb7-2c31f6d55b03",
   "metadata": {},
   "outputs": [],
   "source": []
  },
  {
   "cell_type": "code",
   "execution_count": null,
   "id": "ca2b6b9a-b33d-47df-a454-d2deba51362f",
   "metadata": {},
   "outputs": [],
   "source": []
  },
  {
   "cell_type": "code",
   "execution_count": null,
   "id": "eae3aa61-ca81-4309-bd3a-799a3b45883b",
   "metadata": {},
   "outputs": [],
   "source": []
  }
 ],
 "metadata": {
  "kernelspec": {
   "display_name": "Python 3 (ipykernel)",
   "language": "python",
   "name": "python3"
  },
  "language_info": {
   "codemirror_mode": {
    "name": "ipython",
    "version": 3
   },
   "file_extension": ".py",
   "mimetype": "text/x-python",
   "name": "python",
   "nbconvert_exporter": "python",
   "pygments_lexer": "ipython3",
   "version": "3.11.2"
  }
 },
 "nbformat": 4,
 "nbformat_minor": 5
}
